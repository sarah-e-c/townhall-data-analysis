{
 "cells": [
  {
   "cell_type": "code",
   "execution_count": 1,
   "metadata": {},
   "outputs": [],
   "source": [
    "import pandas as pd\n",
    "import numpy as np\n",
    "import seaborn as sns"
   ]
  },
  {
   "cell_type": "code",
   "execution_count": 2,
   "metadata": {},
   "outputs": [
    {
     "data": {
      "text/html": [
       "<div>\n",
       "<style scoped>\n",
       "    .dataframe tbody tr th:only-of-type {\n",
       "        vertical-align: middle;\n",
       "    }\n",
       "\n",
       "    .dataframe tbody tr th {\n",
       "        vertical-align: top;\n",
       "    }\n",
       "\n",
       "    .dataframe thead th {\n",
       "        text-align: right;\n",
       "    }\n",
       "</style>\n",
       "<table border=\"1\" class=\"dataframe\">\n",
       "  <thead>\n",
       "    <tr style=\"text-align: right;\">\n",
       "      <th></th>\n",
       "      <th>CommenterName</th>\n",
       "      <th>CommentTitle</th>\n",
       "      <th>Comment</th>\n",
       "      <th>CommentID</th>\n",
       "      <th>CommentDateTime</th>\n",
       "      <th>CommentLink</th>\n",
       "    </tr>\n",
       "  </thead>\n",
       "  <tbody>\n",
       "    <tr>\n",
       "      <th>21999</th>\n",
       "      <td>Anonymous</td>\n",
       "      <td>I strongly support this policy.</td>\n",
       "      <td>I am a parent and a grandparent. I expect the...</td>\n",
       "      <td>151093.0</td>\n",
       "      <td>2022-09-27 20:35:00</td>\n",
       "      <td>https://townhall.virginia.gov/ViewComments.cfm...</td>\n",
       "    </tr>\n",
       "    <tr>\n",
       "      <th>10155</th>\n",
       "      <td>Austin Nuckols</td>\n",
       "      <td>Strongly Oppose</td>\n",
       "      <td>Institutionalized cruelty</td>\n",
       "      <td>139142.0</td>\n",
       "      <td>2022-09-26 18:59:00</td>\n",
       "      <td>https://townhall.virginia.gov/ViewComments.cfm...</td>\n",
       "    </tr>\n",
       "    <tr>\n",
       "      <th>31746</th>\n",
       "      <td>Mom of 10th and 8th grade girls</td>\n",
       "      <td>Oppose- If you don't know/respect your child's...</td>\n",
       "      <td>If parents do not know/respect their child's p...</td>\n",
       "      <td>160868.0</td>\n",
       "      <td>2022-09-28 14:14:00</td>\n",
       "      <td>https://townhall.virginia.gov/ViewComments.cfm...</td>\n",
       "    </tr>\n",
       "    <tr>\n",
       "      <th>36158</th>\n",
       "      <td>Anonymous</td>\n",
       "      <td>Strongly Oppose</td>\n",
       "      <td>This will hurt kids.  Don't be mean, Youngkin!</td>\n",
       "      <td>165297.0</td>\n",
       "      <td>2022-09-28 20:06:00</td>\n",
       "      <td>https://townhall.virginia.gov/ViewComments.cfm...</td>\n",
       "    </tr>\n",
       "    <tr>\n",
       "      <th>11885</th>\n",
       "      <td>Kari Miers</td>\n",
       "      <td>Strongly oppose.</td>\n",
       "      <td>Strongly oppose.</td>\n",
       "      <td>140879.0</td>\n",
       "      <td>2022-09-26 20:27:00</td>\n",
       "      <td>https://townhall.virginia.gov/ViewComments.cfm...</td>\n",
       "    </tr>\n",
       "    <tr>\n",
       "      <th>48354</th>\n",
       "      <td>Anonymous</td>\n",
       "      <td>Strongly Oppose</td>\n",
       "      <td>This will hurt kids.  Don't be mean, Youngkin!</td>\n",
       "      <td>177500.0</td>\n",
       "      <td>2022-09-28 20:30:00</td>\n",
       "      <td>https://townhall.virginia.gov/ViewComments.cfm...</td>\n",
       "    </tr>\n",
       "    <tr>\n",
       "      <th>22218</th>\n",
       "      <td>Anonymous</td>\n",
       "      <td>Opposed!!!</td>\n",
       "      <td>Strongly Opposed! The moment you removed a per...</td>\n",
       "      <td>151313.0</td>\n",
       "      <td>2022-09-27 20:54:00</td>\n",
       "      <td>https://townhall.virginia.gov/ViewComments.cfm...</td>\n",
       "    </tr>\n",
       "    <tr>\n",
       "      <th>8148</th>\n",
       "      <td>Ms secret</td>\n",
       "      <td>Never!</td>\n",
       "      <td>Don’t make the decision for the kids, they hav...</td>\n",
       "      <td>137121.0</td>\n",
       "      <td>2022-09-26 17:11:00</td>\n",
       "      <td>https://townhall.virginia.gov/ViewComments.cfm...</td>\n",
       "    </tr>\n",
       "    <tr>\n",
       "      <th>48959</th>\n",
       "      <td>Anonymous</td>\n",
       "      <td>Leave Trans Kids Alone</td>\n",
       "      <td>This will hurt kids.  Don't be mean, Youngkin!</td>\n",
       "      <td>178106.0</td>\n",
       "      <td>2022-09-28 20:42:00</td>\n",
       "      <td>https://townhall.virginia.gov/ViewComments.cfm...</td>\n",
       "    </tr>\n",
       "    <tr>\n",
       "      <th>10406</th>\n",
       "      <td>Gisel Colas</td>\n",
       "      <td>I oppose this in the strongest possible manor.</td>\n",
       "      <td>I oppose this in the strongest possible manor.</td>\n",
       "      <td>139393.0</td>\n",
       "      <td>2022-09-26 19:12:00</td>\n",
       "      <td>https://townhall.virginia.gov/ViewComments.cfm...</td>\n",
       "    </tr>\n",
       "  </tbody>\n",
       "</table>\n",
       "</div>"
      ],
      "text/plain": [
       "                          CommenterName  \\\n",
       "21999                        Anonymous    \n",
       "10155                   Austin Nuckols    \n",
       "31746  Mom of 10th and 8th grade girls    \n",
       "36158                        Anonymous    \n",
       "11885                       Kari Miers    \n",
       "48354                        Anonymous    \n",
       "22218                        Anonymous    \n",
       "8148                         Ms secret    \n",
       "48959                        Anonymous    \n",
       "10406                      Gisel Colas    \n",
       "\n",
       "                                            CommentTitle  \\\n",
       "21999                    I strongly support this policy.   \n",
       "10155                                    Strongly Oppose   \n",
       "31746  Oppose- If you don't know/respect your child's...   \n",
       "36158                                    Strongly Oppose   \n",
       "11885                                   Strongly oppose.   \n",
       "48354                                    Strongly Oppose   \n",
       "22218                                        Opposed!!!    \n",
       "8148                                              Never!   \n",
       "48959                             Leave Trans Kids Alone   \n",
       "10406     I oppose this in the strongest possible manor.   \n",
       "\n",
       "                                                 Comment  CommentID  \\\n",
       "21999   I am a parent and a grandparent. I expect the...   151093.0   \n",
       "10155                          Institutionalized cruelty   139142.0   \n",
       "31746  If parents do not know/respect their child's p...   160868.0   \n",
       "36158     This will hurt kids.  Don't be mean, Youngkin!   165297.0   \n",
       "11885                                   Strongly oppose.   140879.0   \n",
       "48354     This will hurt kids.  Don't be mean, Youngkin!   177500.0   \n",
       "22218  Strongly Opposed! The moment you removed a per...   151313.0   \n",
       "8148   Don’t make the decision for the kids, they hav...   137121.0   \n",
       "48959     This will hurt kids.  Don't be mean, Youngkin!   178106.0   \n",
       "10406     I oppose this in the strongest possible manor.   139393.0   \n",
       "\n",
       "          CommentDateTime                                        CommentLink  \n",
       "21999 2022-09-27 20:35:00  https://townhall.virginia.gov/ViewComments.cfm...  \n",
       "10155 2022-09-26 18:59:00  https://townhall.virginia.gov/ViewComments.cfm...  \n",
       "31746 2022-09-28 14:14:00  https://townhall.virginia.gov/ViewComments.cfm...  \n",
       "36158 2022-09-28 20:06:00  https://townhall.virginia.gov/ViewComments.cfm...  \n",
       "11885 2022-09-26 20:27:00  https://townhall.virginia.gov/ViewComments.cfm...  \n",
       "48354 2022-09-28 20:30:00  https://townhall.virginia.gov/ViewComments.cfm...  \n",
       "22218 2022-09-27 20:54:00  https://townhall.virginia.gov/ViewComments.cfm...  \n",
       "8148  2022-09-26 17:11:00  https://townhall.virginia.gov/ViewComments.cfm...  \n",
       "48959 2022-09-28 20:42:00  https://townhall.virginia.gov/ViewComments.cfm...  \n",
       "10406 2022-09-26 19:12:00  https://townhall.virginia.gov/ViewComments.cfm...  "
      ]
     },
     "execution_count": 2,
     "metadata": {},
     "output_type": "execute_result"
    }
   ],
   "source": [
    "df = pd.read_csv('townhall_data.csv')\n",
    "df['CommentDateTime'] = pd.to_datetime(df['CommentDateTime'])\n",
    "df.sample(10)"
   ]
  },
  {
   "cell_type": "code",
   "execution_count": 4,
   "metadata": {},
   "outputs": [
    {
     "data": {
      "image/png": "[encoded data removed]",
      "text/plain": [
       "<Figure size 432x288 with 1 Axes>"
      ]
     },
     "metadata": {
      "needs_background": "light"
     },
     "output_type": "display_data"
    }
   ],
   "source": [
    "df_to_plot = df.groupby(pd.Grouper(key='CommentDateTime', freq='1H')).count().reset_index()\n",
    "sns.pointplot(data=df_to_plot, x='CommentDateTime', y='Comment')\n",
    "a = df_to_plot.loc[df_to_plot['Comment'] != df_to_plot['Comment'].max()]"
   ]
  },
  {
   "cell_type": "code",
   "execution_count": 5,
   "metadata": {},
   "outputs": [
    {
     "data": {
      "text/plain": [
       "<AxesSubplot:xlabel='CommentDateTime', ylabel='Comment'>"
      ]
     },
     "execution_count": 5,
     "metadata": {},
     "output_type": "execute_result"
    },
    {
     "data": {
      "image/png": "[encoded data removed]",
      "text/plain": [
       "<Figure size 432x288 with 1 Axes>"
      ]
     },
     "metadata": {
      "needs_background": "light"
     },
     "output_type": "display_data"
    }
   ],
   "source": [
    "sns.pointplot(data=a, x='CommentDateTime', y='Comment')"
   ]
  },
  {
   "cell_type": "code",
   "execution_count": 43,
   "metadata": {},
   "outputs": [],
   "source": [
    "from wordcloud import WordCloud, STOPWORDS\n",
    "\n",
    "stopwords = set(STOPWORDS)\n",
    "\n",
    "\n",
    "\n",
    "img = WordCloud(stopwords=stopwords).generate(' '.join(df['CommentTitle'].apply(str))).to_image()\n",
    "img.save('wordcloud_titles.png')"
   ]
  },
  {
   "cell_type": "code",
   "execution_count": 13,
   "metadata": {},
   "outputs": [],
   "source": [
    "from wordcloud import WordCloud, STOPWORDS\n",
    "from pandas.tseries.offsets import Day\n",
    "\n",
    "word_cloud_df=df.copy()\n",
    "word_cloud_df['CommentDateTime'] = df['CommentDateTime'].apply(lambda x: x.replace(minute=0, second=0))\n",
    "\n",
    "def generate_many_wordclouds(df, stopwords=set(STOPWORDS), start_time=None):\n",
    "    if start_time is None:\n",
    "        for i in df['CommentDateTime'].unique():\n",
    "            try:\n",
    "                img = WordCloud(stopwords=stopwords).generate(' '.join(df['Comment'].apply(str))).to_image()\n",
    "                img.save('wordcloud_comments_{}.png'.format(i))\n",
    "            except ValueError as e:\n",
    "                print(e)\n",
    "    \n",
    "\n",
    "\n",
    "generate_many_wordclouds(word_cloud_df)\n",
    "\n",
    "\n"
   ]
  }
 ],
 "metadata": {
  "kernelspec": {
   "display_name": "Python 3.10.5 64-bit",
   "language": "python",
   "name": "python3"
  },
  "language_info": {
   "codemirror_mode": {
    "name": "ipython",
    "version": 3
   },
   "file_extension": ".py",
   "mimetype": "text/x-python",
   "name": "python",
   "nbconvert_exporter": "python",
   "pygments_lexer": "ipython3",
   "version": "3.10.5"
  },
  "orig_nbformat": 4,
  "vscode": {
   "interpreter": {
    "hash": "aee8b7b246df8f9039afb4144a1f6fd8d2ca17a180786b69acc140d282b71a49"
   }
  }
 },
 "nbformat": 4,
 "nbformat_minor": 2
}
